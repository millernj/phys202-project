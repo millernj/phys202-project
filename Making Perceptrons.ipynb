{
 "cells": [
  {
   "cell_type": "markdown",
   "metadata": {},
   "source": [
    "#Perceptrons"
   ]
  },
  {
   "cell_type": "markdown",
   "metadata": {},
   "source": [
    "Here we will create a functions the make Peceptrons, the processors that make up a Neural Network. "
   ]
  },
  {
   "cell_type": "code",
   "execution_count": 6,
   "metadata": {
    "collapsed": false
   },
   "outputs": [],
   "source": [
    "%matplotlib inline\n",
    "import matplotlib.pyplot as plt\n",
    "import numpy as np"
   ]
  },
  {
   "cell_type": "markdown",
   "metadata": {},
   "source": [
    "To start, we need a model for nuerons. For this, we turn to the perceptron: an artificial neuron that takes an input (a vector) and evaluates it with weights and biases to output 1 or 0. There are a couple different ways to do this, so let's just explore the two major ones."
   ]
  },
  {
   "cell_type": "code",
   "execution_count": 7,
   "metadata": {
    "collapsed": true
   },
   "outputs": [],
   "source": [
    "step_function = lambda x: 1 if not x < 0 else 0\n",
    "# The step function will be used to output the neuron's evaluation\n",
    "sigmoid = lambda x: 1/(1 +np.exp(-x))\n",
    "\n",
    "# The sigmoid function is not exactly the same as the step function,\n",
    "# but it's smoothness and differentiability makes it better for our use."
   ]
  },
  {
   "cell_type": "code",
   "execution_count": 8,
   "metadata": {
    "collapsed": false
   },
   "outputs": [
    {
     "data": {
      "image/png": "[encoded data removed]",
      "text/plain": [
       "<matplotlib.figure.Figure at 0x7f2bbd777f98>"
      ]
     },
     "metadata": {},
     "output_type": "display_data"
    }
   ],
   "source": [
    "# Lets visualize the difference\n",
    "x =np.arange(-10,10,0.1)\n",
    "a = plt.subplot(1,1,1)\n",
    "plt.plot(x, sigmoid(x), 'r',label= 'Sigmoid')\n",
    "step_points = [step_function(x) for x in x]\n",
    "plt.scatter(x, step_points, marker='_', label = 'Step')\n",
    "plt.legend(loc='upper left')\n",
    "plt.title('Step Function vs. Sigmoid')\n",
    "plt.xlabel('$X$')\n",
    "plt.ylabel('$Y$')\n",
    "plt.xlim(-10,10)\n",
    "plt.ylim(-0.05,1.05)\n",
    "a.get_xaxis().tick_bottom()\n",
    "# Here's the difference between the Sigmoid and Step Functions graphed out"
   ]
  },
  {
   "cell_type": "markdown",
   "metadata": {},
   "source": [
    "Now, using the sigmoid function, lets make our perceptrons. Perceptron operate by this formula:\n",
    "$$threshold_{p}=w_{j}(z_{j})$$\n",
    "where $z_{j}$ is the input vector that the perceptron recieves, $w_{j}$ is the vector of weights in the perceptron, and the threshold is the minimum value the dot product of the weight and input vectors must be for the perceptron to \"fire.\"\n",
    "If we subtract the threshold to the other side, we have a much more codable formula.\n",
    "$$w_{j}(z_{j}) + b_{p} = 0$$\n",
    "$$b_{p} = -threshold$$\n",
    "By writing the formula like this, we introduce a term called the bias ($b_{p}$). The bias is a scalar term that the determines what values of $w_{j}(z_{j})$ will fire. If $w_{j}(z_{j}) + b_{p}$ returns positive, the perceptron should fire (return a 1); if negative, the perceptron should not fire (return a 0). To get $w_{j}(z_{j}) + b_{p}$ to fire a 1 or 0, we plug it into our step or sigmoid function."
   ]
  },
  {
   "cell_type": "code",
   "execution_count": 9,
   "metadata": {
    "collapsed": true
   },
   "outputs": [],
   "source": [
    "def perceptron_step(weights, inputvect):\n",
    "    return step_function(np.dot(np.append(inputvect,[1]), weights))\n",
    "#This is the step function version of the perceptron. \n",
    "\n",
    "def perceptron_sigmoid(weights, inputvect):\n",
    "    return sigmoid(np.dot(np.append(inputvect,[1]), weights))\n",
    "# This is the sigmoid function version of the perceptron. \n",
    "\n"
   ]
  },
  {
   "cell_type": "markdown",
   "metadata": {},
   "source": [
    "The perceptrons take in two lists: one for weights \n",
    "with the last term being the bias, and one for the input. \n",
    "The number of weights equals the number of inputs making \n",
    "the size of the input vector one less than the weights plus \n",
    "bias vector, so the input list gets $[1]$ added to it to \n",
    "allow a dot product between the weights and input vectors\n",
    "and keeping the computation $<weights,inputs> + \\ bias$."
   ]
  },
  {
   "cell_type": "markdown",
   "metadata": {},
   "source": [
    "So, if we have an input, we need a way to propogate that data through our perceptrons to getan output. This function will allow us to do that. "
   ]
  },
  {
   "cell_type": "code",
   "execution_count": 10,
   "metadata": {
    "collapsed": false
   },
   "outputs": [],
   "source": [
    "def propforward(network, inputvect):\n",
    "    outputs = []\n",
    "    for i, l_i in enumerate(network):\n",
    "        neural_input = inputvect\n",
    "        output = [perceptron_sigmoid(weights, neural_input) for weights in l_i]\n",
    "        outputs.append(output)\n",
    "        inputvect = output\n",
    "    \n",
    "    outputs = np.array(outputs)\n",
    "    return [outputs[:-1], outputs[-1]]"
   ]
  },
  {
   "cell_type": "markdown",
   "metadata": {},
   "source": [
    "So one thing we can do with a network of perceptrons is create an XOR gate which is mathematically impossible to do with one perceptron. First, our hidden layer will be composed of a XAND gate (with two 20 weights and a bias of -30) and an OR gate (with two 20 weights and a bias of -10). Then, our outer layer will be a gate with a -60 weight, a 60 weight, and a -30 bias. "
   ]
  },
  {
   "cell_type": "code",
   "execution_count": 14,
   "metadata": {
    "collapsed": false
   },
   "outputs": [
    {
     "name": "stdout",
     "output_type": "stream",
     "text": [
      "[[4.5397868702434395e-05, 0.99995460213129761]]\n",
      "\n",
      "[0.99999999999990585]\n"
     ]
    }
   ],
   "source": [
    "# Here we make a xor gate with a neural network\n",
    "\n",
    "#Hidden Layers\n",
    "xor_hweights = np.array([[20,20,-30],[20,20,-10]])\n",
    "#Output Layer\n",
    "xor_oweights = np.array([[-60,60,-30]])\n",
    "\n",
    "network = [xor_hweights, xor_oweights]\n",
    "\n",
    "\n",
    "\n",
    "hidden_outputs, outputs = propforward(network, [0,1])\n",
    "print(hidden_outputs)\n",
    "print()\n",
    "print(outputs)"
   ]
  },
  {
   "cell_type": "markdown",
   "metadata": {
    "collapsed": true
   },
   "source": [
    "So our Propforward function always outputs a list of two arrays. The first array is the hidden outputs with each layer of perceptron's outputs forming a row of the array. The second array is the network's final output. "
   ]
  },
  {
   "cell_type": "code",
   "execution_count": 115,
   "metadata": {
    "collapsed": false
   },
   "outputs": [],
   "source": [
    "# Assertion Statements\n",
    "\n",
    "assert step_function(1)==1\n",
    "assert step_function(0)==1\n",
    "assert step_function(-4)==0\n",
    "# Checking the Step function\n",
    "\n",
    "assert round(sigmoid(-4))==0\n",
    "assert sigmoid(0)==0.5\n",
    "assert round(sigmoid(1))==1\n",
    "# Checking the sigmoid function\n",
    "\n",
    "and_gate = [2,2,-3]\n",
    "or_gate = [2,2,-1]\n",
    "input1= [0,1]\n",
    "input2= [1,1]\n",
    "input3= [0,0]\n",
    "assert perceptron_step(and_gate, input1)==0\n",
    "assert perceptron_step(and_gate, input2)==1\n",
    "assert perceptron_step(and_gate, input3)==0\n",
    "assert perceptron_step(or_gate, input1)==1\n",
    "assert perceptron_step(or_gate, input2)==1\n",
    "assert perceptron_step(or_gate, input3)==0\n",
    "# Checking the Step function neuron\n",
    "\n",
    "assert round(perceptron_sigmoid(and_gate, input1))==0\n",
    "assert round(perceptron_sigmoid(and_gate, input2))==1\n",
    "assert round(perceptron_sigmoid(and_gate, input3))==0\n",
    "assert round(perceptron_sigmoid(or_gate, input1))==1\n",
    "assert round(perceptron_sigmoid(or_gate, input2))==1\n",
    "assert round(perceptron_sigmoid(or_gate, input3))==0\n",
    "# Checking the Sigmoid function neuron\n",
    "\n",
    "xor_network = [\n",
    "    [[20,20,-30],\n",
    "    [20,20,-10]],\n",
    "    [[-60,60,-30]]\n",
    "]\n",
    "assert round(propforward(xor_network, [1,0])[-1][0])==1\n",
    "assert round(propforward(xor_network, [1,1])[-1][0])==0"
   ]
  }
 ],
 "metadata": {
  "kernelspec": {
   "display_name": "Python 3",
   "language": "python",
   "name": "python3"
  },
  "language_info": {
   "codemirror_mode": {
    "name": "ipython",
    "version": 3
   },
   "file_extension": ".py",
   "mimetype": "text/x-python",
   "name": "python",
   "nbconvert_exporter": "python",
   "pygments_lexer": "ipython3",
   "version": "3.4.0"
  }
 },
 "nbformat": 4,
 "nbformat_minor": 0
}
